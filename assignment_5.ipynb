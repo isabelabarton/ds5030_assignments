{
 "cells": [
  {
   "cell_type": "markdown",
   "id": "dd21efe9",
   "metadata": {},
   "source": [
    "# Assignment 5\n",
    "### Do all four questions."
   ]
  },
  {
   "cell_type": "code",
   "execution_count": 128,
   "id": "12c94a6b",
   "metadata": {},
   "outputs": [],
   "source": [
    "import numpy as np\n",
    "import pandas as pd\n",
    "import seaborn as sns\n",
    "import matplotlib.pyplot as plt\n",
    "import numpy as np\n",
    "import pandas as pd\n",
    "import seaborn as sns\n",
    "import matplotlib.pyplot as plt\n",
    "import pickle"
   ]
  },
  {
   "cell_type": "markdown",
   "id": "1ee9b4e8",
   "metadata": {},
   "source": [
    "**1.** Let's review some basic matrix multiplication. When you have an $M \\times N$ matrix $A$ with $M$ rows and $N$ columns, \n",
    "$$\n",
    "A= \\left[ \\begin{array}{cccc} a_{11} & a_{12} & ... & a_{1N} \\\\\n",
    "a_{21} & a_{22} & ... & a_{2N} \\\\\n",
    "\\vdots & \\vdots & ... & \\vdots \\\\\n",
    "a_{M1} & a_{M2} & ... & a_{MN} \n",
    "\\end{array} \\right],\n",
    "$$\n",
    "and you right-multiply it by a vector\n",
    "$$\n",
    "x = \\left[ \\begin{array}{c} x_1 \\\\ x_2 \\\\ \\vdots \\\\ x_N \n",
    "\\end{array} \\right],\n",
    "$$\n",
    "you get\n",
    "$$\n",
    "Ax = \\left[ \\begin{array}{c} \\sum_{i=1}^N a_{1i} x_i \\\\ \\sum_{i=1}^N a_{2i} x_i \\\\ \\vdots \\\\ \\sum_{i=1}^N a_{Mi} x_i \n",
    "\\end{array} \\right].\n",
    "$$\n",
    "This is just \"matrix row times column vector\" element-by-element, stacking the results into a new vector.\n",
    "\n",
    "For this to make sense, $N$ must be the same for the matrix and the vector, but $M$ can be different from $N$. \n",
    "\n",
    "Let's play with some NumPy to see this. First we'll define a matrix $A$:"
   ]
  },
  {
   "cell_type": "code",
   "execution_count": 129,
   "id": "33df3579",
   "metadata": {},
   "outputs": [],
   "source": [
    "A = np.array([ [1,2,3],\n",
    "              [4,5,6],\n",
    "              [7,8,9]])"
   ]
  },
  {
   "cell_type": "markdown",
   "id": "94b1b3ac",
   "metadata": {},
   "source": [
    "a. Multiply $A$ times each of the following vectors using the @ operator. Explain which part of the $A$ matrix gets selected and explain why, using the definition of matrix multiplication. "
   ]
  },
  {
   "cell_type": "code",
   "execution_count": 130,
   "id": "5b6148d2",
   "metadata": {},
   "outputs": [
    {
     "name": "stdout",
     "output_type": "stream",
     "text": [
      "A @ e_1: [1 4 7]\n",
      "A @ e_2: [2 5 8]\n",
      "A @ e_3: [3 6 9]\n"
     ]
    }
   ],
   "source": [
    "e_1 = np.array([1,0,0])\n",
    "e_2 = np.array([0,1,0])\n",
    "e_3 = np.array([0,0,1])\n",
    "\n",
    "a_1 = A @ e_1\n",
    "a_2 = A @ e_2\n",
    "a_3 = A @ e_3\n",
    "\n",
    "print(\"A @ e_1:\", str(a_1))\n",
    "print(\"A @ e_2:\", str(a_2))\n",
    "print(\"A @ e_3:\", str(a_3))"
   ]
  },
  {
   "cell_type": "markdown",
   "id": "f99a4d71",
   "metadata": {},
   "source": [
    "According to the rules of matrix multiplication, the number of columns in the first matrix must match the number of rows in the second. This condition is satisfied in all three cases because matrix A has three columns and e_1, e_2, and e_3 all each have three rows. \n",
    "\n",
    "Each multiplication of A@e_j creates a new vector where each entry is the dot product of a row of A and the vector e_j. Since each e_j has a single 1 in one position and 0s everywhere else, only one column of A contributes to the result. So, multiplying A by e_1 takes only the frist column of A because only the first element of each row is multiplied by 1 and the rest are multiplied by 0. \n",
    "\n",
    "a_1 = A @ e_1 = [1, 4, 7]\n",
    "- a_1[0] = (1 * 1) + (2 * 0) + (3 * 0) = 1\n",
    "- a_1[1] = (4 * 1) + (5 * 0) + (6 * 0) = 4\n",
    "- a_1[2] = (7 * 1) + (8 * 0) + (9 * 0) = 7\n",
    "\n",
    "The same process also applies to e_2 and e_3. Multiplying by e_2 isolates the second column of A, and multiplying by e_3 isolates the third column. \n",
    "\n",
    "a_2 = A @ e_2 = [2, 5, 8]\n",
    "- a_2[0] = (1 * 0) + (2 * 1) + (3 * 0) = 2\n",
    "- a_2[1] = (4 * 0) + (5 * 1) + (6 * 0) = 5\n",
    "- a_2[2] = (7 * 0) + (8 * 1) + (9 * 0) = 8\n",
    "\n",
    "a_3 = A @ e_3 = [3, 6, 9]\n",
    "- a_3[0] = (1 * 0) + (2 * 0) + (3 * 1) = 3\n",
    "- a_3[1] = (4 * 0) + (5 * 0) + (6 * 1) = 6\n",
    "- a_3[2] = (7 * 0) + (8 * 0) + (9 * 1) = 9\n"
   ]
  },
  {
   "cell_type": "markdown",
   "id": "72a4704e",
   "metadata": {},
   "source": [
    "b. Now multiply $A$ times $u = (1,1,1)$. Explain the logic of the result with the definition of matrix multiplication."
   ]
  },
  {
   "cell_type": "code",
   "execution_count": 131,
   "id": "5bf73f9b",
   "metadata": {},
   "outputs": [
    {
     "name": "stdout",
     "output_type": "stream",
     "text": [
      "A @ u: [ 6. 15. 24.]\n"
     ]
    }
   ],
   "source": [
    "u = np.ones(3)\n",
    "b = A @ u\n",
    "print(\"A @ u:\", str(b))"
   ]
  },
  {
   "cell_type": "markdown",
   "id": "ff4fee14",
   "metadata": {},
   "source": [
    "When multiplying the matrix A by the vector u = (1, 1, 1), a vector is created where each entry represents the sum of the corresponding row in A. This happens because I am taking the dot product of each row of A with the vector u, and since all entries in u are 1, each dot product adds up all the elements in that row. \n",
    "\n",
    "b = [6 15 24]\n",
    "- b[0] = (1 * 1) + (2 * 1) + (3 * 1) = 6\n",
    "- b[1] = (4 * 1) + (5 * 1) + (6 * 1) = 15\n",
    "- b[2] = (7 * 1) + (8 * 1) + (9 * 1) = 24"
   ]
  },
  {
   "cell_type": "markdown",
   "id": "dde75eab",
   "metadata": {},
   "source": [
    "c. Whenever a matrix has 1's on the diagonal and zeros everywhere else, we call it an **identity matrix**. What happens when you multiple $A$ times $x$ below? What happens when you multiple an identity matrix times any vector? Explain your result with the definition of matrix multiplication."
   ]
  },
  {
   "cell_type": "code",
   "execution_count": 132,
   "id": "b0d349c4",
   "metadata": {},
   "outputs": [
    {
     "name": "stdout",
     "output_type": "stream",
     "text": [
      "A @ x: [-2  4 11]\n"
     ]
    }
   ],
   "source": [
    "A = np.array([ [1,0,0],\n",
    "              [0,1,0],\n",
    "              [0,0,1]])\n",
    "x = np.array([-2,4,11])\n",
    "\n",
    "c = A @ x\n",
    "print(\"A @ x:\", str(c))"
   ]
  },
  {
   "cell_type": "markdown",
   "id": "004e0b0d",
   "metadata": {},
   "source": [
    "When multiplying the identity matrix A by the vector x = [-2, 4, 11], the new vector is just a copy of the original vector. This happens because each row of the identity matrix contains a single 1 in a unique column with 0s everywhere else. During matrix multiplication, each row of A takes the dot product with x, selecting only one corresponding entry from x.\n",
    "\n",
    "c = [-2 4 11]\n",
    "- c[0] = (1 * -2) + (0 * 4) + (0 * 11) = -2\n",
    "- c[1] = (0 * -2) + (1 * 4) + (0 * 11) = 4\n",
    "- c[2] = (0 * -2) + (0 * 4) + (1 * 11) = 11\n",
    "\n",
    "This behavior reflects the property of the identity matrix where for any vector x, I@x = x. So, each row of the identity matrix essentially chooses one entry of the vector without changing it. "
   ]
  },
  {
   "cell_type": "markdown",
   "id": "57141925",
   "metadata": {},
   "source": [
    "d. What if every row and column sum to 1, but the 1's are no longer on the diagonal? Multiple $A$ times $X$ below and explain the result. Create another matrix whose rows and columns sum to 1, but is not an identity matrix, and show how it permutes the values of $x$. "
   ]
  },
  {
   "cell_type": "code",
   "execution_count": 133,
   "id": "83a9ed11",
   "metadata": {},
   "outputs": [
    {
     "name": "stdout",
     "output_type": "stream",
     "text": [
      "A @ x: [11 -2  4]\n"
     ]
    }
   ],
   "source": [
    "A = np.array([ [0,0,1],\n",
    "              [1,0,0],\n",
    "              [0,1,0]])\n",
    "x = np.array([-2,4,11])\n",
    "\n",
    "d = A @ x\n",
    "print(\"A @ x:\", str(d))\n"
   ]
  },
  {
   "cell_type": "markdown",
   "id": "4ee347d6",
   "metadata": {},
   "source": [
    "d = [11 -2 4]\n",
    "- d[0] = (0 * -2) + (0 * 4) + (1 * 11) = 11\n",
    "- d[1] = (1 * -2) + (0 * 4) + (0 * 11) = -2\n",
    "- d[2] = (0 * -2) + (1 * 4) + (0 * 11) = 4\n",
    "\n",
    "This matrix permutes the elements of, so the first row picks the third element of x (11), the second row picks the first element (-2), and the third row picks the second element (4). This matrix rearranges x into a new order: [x_2, x_0, x_1] = [11, -2, 4]. So even though it isn't an identity matrix, it still satisfies the condition that each row and column have exactly one 1 and sums to 1. This makes it a permutation matrix, which is a type of matrix that reorders the elements of a vector without altering their values. "
   ]
  },
  {
   "cell_type": "markdown",
   "id": "611c26c3",
   "metadata": {},
   "source": [
    "e. The next matrix $A$ could be a Markov transition matrix: Its columns sum to 1, and each entry $a_{ij}$ can be interpreted as the proportion of observations who moved from state $j$ to state $i$. Multiply $A$ by each of the vectors $e_1$, $e_2$, and $e_3$, and explain your results."
   ]
  },
  {
   "cell_type": "code",
   "execution_count": 134,
   "id": "bce4353a",
   "metadata": {},
   "outputs": [
    {
     "name": "stdout",
     "output_type": "stream",
     "text": [
      "[[0.50052958 0.24049286 0.18358131]\n",
      " [0.02574731 0.39251588 0.37907577]\n",
      " [0.47372311 0.36699127 0.43734292]]\n"
     ]
    }
   ],
   "source": [
    "rng = np.random.default_rng(100)\n",
    "A = rng.random((3,3)) \n",
    "sums = np.sum(A,axis=0) \n",
    "A = A/sums\n",
    "print(A)"
   ]
  },
  {
   "cell_type": "code",
   "execution_count": 135,
   "id": "1456bd39",
   "metadata": {},
   "outputs": [
    {
     "name": "stdout",
     "output_type": "stream",
     "text": [
      "A @ e_1: [0.50052958 0.02574731 0.47372311]\n",
      "A @ e_2: [0.24049286 0.39251588 0.36699127]\n",
      "A @ e_3: [0.18358131 0.37907577 0.43734292]\n"
     ]
    }
   ],
   "source": [
    "e_1_1 = A @ e_1\n",
    "e_2_1 = A @ e_2\n",
    "e_3_1 = A @ e_3\n",
    "\n",
    "print(\"A @ e_1:\", str(e_1_1))\n",
    "print(\"A @ e_2:\", str(e_2_1))\n",
    "print(\"A @ e_3:\", str(e_3_1))\n"
   ]
  },
  {
   "cell_type": "markdown",
   "id": "2d19c0e4",
   "metadata": {},
   "source": [
    "e_1_1 = [0.50052958 0.02574731 0.47372311]\n",
    "- e_1_1[0] = (0.50052958 * 1) + (0.24049286 * 0) + (0.18358131 * 0) = 0.50052958\n",
    "- e_1_1[1] = (0.02574731 * 1) + (0.39251588 * 0) + (0.37907577 * 0) = 0.02574731\n",
    "- e_1_1[2] = (0.47372311 * 1) + (0.36699127 * 0) + (0.43734292 * 0) = 0.43734292\n",
    "\n",
    "e_1_2 = [0.24049286 0.39251588 0.36699127]\n",
    "- e_1_2[0] = (0.50052958 * 0) + (0.24049286 * 1) + (0.18358131 * 0) = 0.24049286\n",
    "- e_1_2[1] = (0.02574731 * 0) + (0.39251588 * 1) + (0.37907577 * 0) = 0.39251588\n",
    "- e_1_2[2] = (0.47372311 * 0) + (0.36699127 * 1) + (0.43734292 * 0) = 0.36699127\n",
    "\n",
    "e_1_3 = [0.18358131 0.37907577 0.43734292]\n",
    "- e_1_3[0] = (0.50052958 * 0) + (0.24049286 * 0) + (0.18358131 * 1) = 0.18358131\n",
    "- e_1_3[1] = (0.02574731 * 0) + (0.39251588 * 0) + (0.37907577 * 1) = 0.37907577\n",
    "- e_1_3[2] = (0.47372311 * 0) + (0.36699127 * 0) + (0.43734292 * 1) = 0.43734292\n",
    "\n",
    "When we multiply the matrix A by the vectors e_1 = [1, 0, 0], e_2 = [0, 1, 0], and e_3 = [0, 0, 1], each product returns the first, second, and third columns of A, respectively. This happens because the multiplication selects only the columns of A that correspond to the positions where the vector has a 1. For example, A @ e_1 results in a weighted sum of the columns of A, but since only the first entry of e_1 is 1 (and the rest are 0), the result is just the first column of A. The same logic applies to A @ e_2 and A @ e_3, which return the second and third columns. Each entry in the resulting vector is a linear combination of the columns of A weighted by the entries in the input vector, and only one column is being selected at a time.\n",
    "\n",
    "In the context of a Markov transition matrix, each column represents the distribution of transitions from a specific starting state. Therefore, multiplying \n",
    "A by e_j gives the probability distribution of moving from state j to all other states after one step."
   ]
  },
  {
   "cell_type": "markdown",
   "id": "0647bfa7",
   "metadata": {},
   "source": [
    "f. For each of the vectors $e_1, e_2, e_3$, multiple $A$ times that vector 5 times. What answer do you get for each starting vector? Describe the behavior you observe."
   ]
  },
  {
   "cell_type": "code",
   "execution_count": 136,
   "id": "396d6c7e",
   "metadata": {},
   "outputs": [
    {
     "name": "stdout",
     "output_type": "stream",
     "text": [
      "Initial f_1: [0.50052958 0.02574731 0.47372311]\n",
      "Initial f_2: [0.24049286 0.39251588 0.36699127]\n",
      "Initial f_3: [0.18358131 0.37907577 0.43734292]\n",
      "\n",
      "A @ f_1 (5 times): [0.29266551 0.27862515 0.42870935]\n",
      "A @ f_2 (5 times): [0.29197422 0.27979983 0.42822595]\n",
      "A @ f_3 (5 times): [0.29171646 0.2802254  0.42805814]\n"
     ]
    }
   ],
   "source": [
    "f_1 = A @ e_1\n",
    "f_2 = A @ e_2\n",
    "f_3 = A @ e_3\n",
    "\n",
    "print(\"Initial f_1:\", str(f_1))\n",
    "print(\"Initial f_2:\", str(f_2))\n",
    "print(\"Initial f_3:\", str(f_3))\n",
    "print()\n",
    "\n",
    "for _ in range(4):\n",
    "    f_1 = A @ f_1\n",
    "    f_2 = A @ f_2\n",
    "    f_3 = A @ f_3\n",
    "\n",
    "print(\"A @ f_1 (5 times):\", str(f_1))\n",
    "print(\"A @ f_2 (5 times):\", str(f_2))\n",
    "print(\"A @ f_3 (5 times):\", str(f_3))"
   ]
  },
  {
   "cell_type": "markdown",
   "id": "1bc75440",
   "metadata": {},
   "source": [
    "I will show the process for f_1 and then f_2 and f_3 follow identical processes but with their respective numbers. \n",
    "\n",
    "Initial f_1 = [0.50052958, 0.02574731, 0.47372311]\n",
    "\n",
    "f_1 (after first multiplication) = [0.29266551, 0.27862515, 0.42870935]\n",
    "- f_1 (after first multiplication)[0] = (0.50052958 * 0.50052958) + (0.24049286 * 0.02574731) + (0.18358131 * 0.47372311) = 0.29266551\n",
    "- f_1 (after first multiplication)[1] = (0.50052958 * 0.24049286) + (0.24049286 * 0.39251588) + (0.18358131 * 0.36699127) = 0.27862515\n",
    "- f_1 (after first multiplication)[2] = (0.50052958 * 0.47372311) + (0.24049286 * 0.37907577) + (0.18358131 * 0.43734292) = 0.42870935\n",
    "\n",
    "f_1 (after second multiplication) = [0.343688613785, 0.343688613785, 0.343688613785]\n",
    "- f_1 (after second multiplication)[0] = (0.50052958 * 0.29266551) + (0.24049286 * 0.27862515) + (0.18358131 * 0.42870935) = 0.343688613785\n",
    "- f_1 (after second multiplication)[1] = (0.50052958 * 0.27862515) + (0.24049286 * 0.27979983) + (0.18358131 * 0.42805814) = 0.343688613785\n",
    "- f_1 (after second multiplication)[2] = (0.50052958 * 0.42870935) + (0.24049286 * 0.42822595) + (0.18358131 * 0.29171646) = 0.343688613785\n",
    "\n",
    "f_1 (after third multiplication) = [0.343688613785, 0.343688613785, 0.343688613785]\n",
    "\n",
    "f_1 (after fourth multiplication) = [0.343688613785, 0.343688613785, 0.343688613785]\n",
    "\n",
    "f_1 (after fifth multiplication) = [0.343688613785, 0.343688613785, 0.343688613785]\n",
    "\n",
    "As you can see, the values of the vectors stabilize after multiple multiplications by A, which indicates that the systems have converged. Even after the second multiplication, the vectors become practically constant and don’t change with more multiplications. This behavior happens because A is a Markov transition matrix, where each column sums to 1 and each entry represents the probability of moving between states. Multiplying a vector by A shows one step of the process. Repeated multiplication causes the system to eventually forget its initial state and stabilize. All three vectors f_1, f_2, and f_3 converge to the same steady-state vector, regardless of their different starting points."
   ]
  },
  {
   "cell_type": "markdown",
   "id": "fa2c9a93",
   "metadata": {},
   "source": [
    "*2.* Let's consider a simple Markov transition matrix over two states:\n",
    "$$\n",
    "T = \\left[ \\begin{array}{cc} p_{1\\leftarrow 1} &  p_{1\\leftarrow 2} \\\\\n",
    "p_{2 \\leftarrow 1} & p_{2 \\leftarrow 2} \\end{array}\\right] \n",
    "$$\n",
    "The arrows help visualize the transition a bit: This is the same index notation as usual, $p_{ij}$, but writing it $p_{i \\leftarrow j}$ emphasizes that it's the proportion of times that state $j$ transitions to state $i$. Below, $T$ is given by\n",
    "$$\n",
    "T = \\left[ \\begin{array}{cc} .25 & .5 \\\\\n",
    ".75 & .5 \\end{array}\\right].\n",
    "$$\n",
    "\n",
    "- Start in state 1, at the initial condition $[1,0]$. Multiply that vector by $T$. Write out the result in terms of the formula and compute the result in a code chunk below. What is this object you're looking at, in terms of proportions and transitions?\n",
    "- Multiple by $T$ again. What do you get? This isn't a column of $T$. Explain in words what it is. (Hint: A forecast of what in what period?)\n",
    "- Keep multiplying the current vector of outcomes by $T$. When does it start to settle down without changing further?\n",
    "- Do the above analysis again, starting from the initial condition $[0,1]$. Do you get a different result?\n",
    "- The take-away is that, in the long run, these chains settle down into the long-run proportions, and the sensitivity on initial conditions vanishes. \n"
   ]
  },
  {
   "cell_type": "code",
   "execution_count": 137,
   "id": "4b6a775f",
   "metadata": {},
   "outputs": [
    {
     "name": "stdout",
     "output_type": "stream",
     "text": [
      "T @ vector_1: [0.25 0.75]\n"
     ]
    }
   ],
   "source": [
    "T = np.array([[ 1/4, 1/2],\n",
    "                 [ 3/4, 1/2 ]])\n",
    "\n",
    "vector_1 = np.array([1,0])\n",
    "\n",
    "result_1 = T @ vector_1\n",
    "print(\"T @ vector_1:\", str(result_1))"
   ]
  },
  {
   "cell_type": "markdown",
   "id": "965f9635",
   "metadata": {},
   "source": [
    "The vector [0.25, 0.75] represents the probabilities of being in states 1 and 2 after one step of the process, given the initial condition. So, starting in state 1, after one transition, there's a 25% chance of being in state 1 and a 75% chance of being in state 2. "
   ]
  },
  {
   "cell_type": "code",
   "execution_count": 138,
   "id": "71da29a5",
   "metadata": {},
   "outputs": [
    {
     "name": "stdout",
     "output_type": "stream",
     "text": [
      "T @ result_1: [0.4375 0.5625]\n"
     ]
    }
   ],
   "source": [
    "result_2 = T @ result_1\n",
    "print(\"T @ result_1:\", str(result_2))"
   ]
  },
  {
   "cell_type": "markdown",
   "id": "3c6497d6",
   "metadata": {},
   "source": [
    "[0.4375, 0.5625] is the distribution of states two time steps after the initial state vector [1, 0]. So, after starting in state 1, multiplying by T once gives the distribution after 1 step and multiplying again forecasts the distribution after 2 steps. The vector represents the probability proportions of being in states 1 and 2 after two transitions. "
   ]
  },
  {
   "cell_type": "code",
   "execution_count": 139,
   "id": "5090d783",
   "metadata": {},
   "outputs": [
    {
     "name": "stdout",
     "output_type": "stream",
     "text": [
      "T @ result_2: [0.390625 0.609375]\n",
      "T @ result_3: [0.40234375 0.59765625]\n",
      "T @ result_4: [0.39941406 0.60058594]\n",
      "T @ result_5: [0.40014648 0.59985352]\n",
      "T @ result_6: [0.39996338 0.60003662]\n",
      "T @ result_7: [0.40000916 0.59999084]\n",
      "T @ result_8: [0.39999771 0.60000229]\n",
      "T @ result_9: [0.40000057 0.59999943]\n"
     ]
    }
   ],
   "source": [
    "result_3 = T @ result_2\n",
    "print(\"T @ result_2:\", str(result_3))\n",
    "\n",
    "result_4 = T @ result_3\n",
    "print(\"T @ result_3:\", str(result_4))\n",
    "\n",
    "result_5 = T @ result_4\n",
    "print(\"T @ result_4:\", str(result_5))\n",
    "\n",
    "result_6 = T @ result_5 \n",
    "print(\"T @ result_5:\", str(result_6))\n",
    "\n",
    "result_7 = T @ result_6\n",
    "print(\"T @ result_6:\", str(result_7))\n",
    "\n",
    "result_8 = T @ result_7\n",
    "print(\"T @ result_7:\", str(result_8))\n",
    "\n",
    "result_9 = T @ result_8\n",
    "print(\"T @ result_8:\", str(result_9))\n",
    "\n",
    "result_10 = T @ result_9\n",
    "print(\"T @ result_9:\", str(result_10))"
   ]
  },
  {
   "cell_type": "markdown",
   "id": "cde31bb8",
   "metadata": {},
   "source": [
    "When I repeatedly multiply the current state distribution vector by the transition matrix T, the vector changes less and less, eventually settling into a stable distribution. By about the 5th or 6th multiplication, the changes become very, very small, which indicates convergence. "
   ]
  },
  {
   "cell_type": "code",
   "execution_count": 140,
   "id": "a431531f",
   "metadata": {},
   "outputs": [
    {
     "name": "stdout",
     "output_type": "stream",
     "text": [
      "T @ vector_2: [0.5 0.5]\n",
      "T @ result_1_v2: [0.375 0.625]\n",
      "T @ result_2_v2: [0.40625 0.59375]\n",
      "T @ result_3_v2: [0.3984375 0.6015625]\n",
      "T @ result_4_v2: [0.40039062 0.59960938]\n",
      "T @ result_5_v2: [0.39990234 0.60009766]\n",
      "T @ result_6_v2: [0.40002441 0.59997559]\n",
      "T @ result_7_v2: [0.3999939 0.6000061]\n",
      "T @ result_8_v2: [0.40000153 0.59999847]\n",
      "T @ result_10_v2: [0.40000153 0.59999847]\n"
     ]
    }
   ],
   "source": [
    "vector_2 = np.array([0,1])\n",
    "\n",
    "result_1_v2 = T @ vector_2\n",
    "print(\"T @ vector_2:\", str(result_1_v2))\n",
    "\n",
    "result_2_v2 = T @ result_1_v2        \n",
    "print(\"T @ result_1_v2:\", str(result_2_v2))\n",
    "\n",
    "result_3_v2 = T @ result_2_v2\n",
    "print(\"T @ result_2_v2:\", str(result_3_v2))\n",
    "\n",
    "result_4_v2 = T @ result_3_v2\n",
    "print(\"T @ result_3_v2:\", str(result_4_v2))\n",
    "\n",
    "result_5_v2 = T @ result_4_v2\n",
    "print(\"T @ result_4_v2:\", str(result_5_v2))\n",
    "\n",
    "result_6_v2 = T @ result_5_v2\n",
    "print(\"T @ result_5_v2:\", str(result_6_v2))\n",
    "\n",
    "result_7_v2 = T @ result_6_v2\n",
    "print(\"T @ result_6_v2:\", str(result_7_v2))\n",
    "\n",
    "result_8_v2 = T @ result_7_v2\n",
    "print(\"T @ result_7_v2:\", str(result_8_v2))\n",
    "\n",
    "result_9_v2 = T @ result_8_v2\n",
    "print(\"T @ result_8_v2:\", str(result_9_v2))\n",
    "\n",
    "result_10_v2 = T @ result_9_v2\n",
    "print(\"T @ result_10_v2:\", str(result_9_v2))"
   ]
  },
  {
   "cell_type": "markdown",
   "id": "ad926b19",
   "metadata": {},
   "source": [
    "The new initial condition, [0, 1] means it starts entirely in state 2. After repeatedly multiplying the transition matrix T, the distribution also begins to settle into a stable state. Just like the other case starting from [1, 0], the vector converges to the same steady state distribution: [0.4, 0.6]"
   ]
  },
  {
   "cell_type": "markdown",
   "id": "9ea27fce",
   "metadata": {},
   "source": [
    "This confirms the property of Markov chains that states that the system always converges to the same steady-state vector regardless of the starting point. The early steps could differ based on the initial condition, but in the long run, the result is the same, which shows how the system forgets where it started and settles into a stable pattern of behavior over time."
   ]
  },
  {
   "cell_type": "markdown",
   "id": "921592e9",
   "metadata": {},
   "source": [
    "3. Weather data\n",
    "\n",
    "- Load the `cville_weather.csv` data. This includes data from Jan 4, 2024 to Feb 2, 2025. Are there any missing data issues?\n",
    "- Based on the precipitation variable, `PRCP`, make a new variable called `rain` that takes the value 1 if `PRCP`>0 and 0 otherwise.\n",
    "- Build a two-state Markov chain over the states 0 and 1 for the `rain` variable. \n",
    "- For your chain from c, how likely is it to rain if it was rainy yesterday? How likely is it to rain if it was clear yesterday?\n",
    "- Starting from a clear day, forecast the distribution. How quickly does it converge to a fixed result? What if you start from a rainy day?\n",
    "- Conditional on being rainy, plot a KDE of the `PRCP` variable.\n",
    "- Describe one way of making your model better for forecasting and simulation the weather.\n",
    "\n",
    "Congratulations, you now are a non-parametric meteorologist!"
   ]
  },
  {
   "cell_type": "code",
   "execution_count": 141,
   "id": "c9339711",
   "metadata": {},
   "outputs": [
    {
     "data": {
      "text/html": [
       "<div>\n",
       "<style scoped>\n",
       "    .dataframe tbody tr th:only-of-type {\n",
       "        vertical-align: middle;\n",
       "    }\n",
       "\n",
       "    .dataframe tbody tr th {\n",
       "        vertical-align: top;\n",
       "    }\n",
       "\n",
       "    .dataframe thead th {\n",
       "        text-align: right;\n",
       "    }\n",
       "</style>\n",
       "<table border=\"1\" class=\"dataframe\">\n",
       "  <thead>\n",
       "    <tr style=\"text-align: right;\">\n",
       "      <th></th>\n",
       "      <th>§§</th>\n",
       "      <th>NAME</th>\n",
       "      <th>DATE</th>\n",
       "      <th>DAPR</th>\n",
       "      <th>DAPR_ATTRIBUTES</th>\n",
       "      <th>MDPR</th>\n",
       "      <th>MDPR_ATTRIBUTES</th>\n",
       "      <th>PRCP</th>\n",
       "      <th>PRCP_ATTRIBUTES</th>\n",
       "      <th>SNOW</th>\n",
       "      <th>SNOW_ATTRIBUTES</th>\n",
       "      <th>SNWD</th>\n",
       "      <th>SNWD_ATTRIBUTES</th>\n",
       "    </tr>\n",
       "  </thead>\n",
       "  <tbody>\n",
       "    <tr>\n",
       "      <th>0</th>\n",
       "      <td>US1VACRC002</td>\n",
       "      <td>CHARLOTTESVILLE 0.5 NNE, VA US</td>\n",
       "      <td>1/4/24</td>\n",
       "      <td>NaN</td>\n",
       "      <td>NaN</td>\n",
       "      <td>NaN</td>\n",
       "      <td>NaN</td>\n",
       "      <td>0.03</td>\n",
       "      <td>,,N</td>\n",
       "      <td>NaN</td>\n",
       "      <td>NaN</td>\n",
       "      <td>NaN</td>\n",
       "      <td>NaN</td>\n",
       "    </tr>\n",
       "    <tr>\n",
       "      <th>1</th>\n",
       "      <td>US1VACRC002</td>\n",
       "      <td>CHARLOTTESVILLE 0.5 NNE, VA US</td>\n",
       "      <td>1/7/24</td>\n",
       "      <td>NaN</td>\n",
       "      <td>NaN</td>\n",
       "      <td>NaN</td>\n",
       "      <td>NaN</td>\n",
       "      <td>1.08</td>\n",
       "      <td>,,N</td>\n",
       "      <td>NaN</td>\n",
       "      <td>NaN</td>\n",
       "      <td>NaN</td>\n",
       "      <td>NaN</td>\n",
       "    </tr>\n",
       "    <tr>\n",
       "      <th>2</th>\n",
       "      <td>US1VACRC002</td>\n",
       "      <td>CHARLOTTESVILLE 0.5 NNE, VA US</td>\n",
       "      <td>1/9/24</td>\n",
       "      <td>NaN</td>\n",
       "      <td>NaN</td>\n",
       "      <td>NaN</td>\n",
       "      <td>NaN</td>\n",
       "      <td>0.24</td>\n",
       "      <td>,,N</td>\n",
       "      <td>NaN</td>\n",
       "      <td>NaN</td>\n",
       "      <td>NaN</td>\n",
       "      <td>NaN</td>\n",
       "    </tr>\n",
       "    <tr>\n",
       "      <th>3</th>\n",
       "      <td>US1VACRC002</td>\n",
       "      <td>CHARLOTTESVILLE 0.5 NNE, VA US</td>\n",
       "      <td>1/10/24</td>\n",
       "      <td>NaN</td>\n",
       "      <td>NaN</td>\n",
       "      <td>NaN</td>\n",
       "      <td>NaN</td>\n",
       "      <td>3.00</td>\n",
       "      <td>,,N</td>\n",
       "      <td>NaN</td>\n",
       "      <td>NaN</td>\n",
       "      <td>NaN</td>\n",
       "      <td>NaN</td>\n",
       "    </tr>\n",
       "    <tr>\n",
       "      <th>4</th>\n",
       "      <td>US1VACRC002</td>\n",
       "      <td>CHARLOTTESVILLE 0.5 NNE, VA US</td>\n",
       "      <td>1/24/24</td>\n",
       "      <td>NaN</td>\n",
       "      <td>NaN</td>\n",
       "      <td>NaN</td>\n",
       "      <td>NaN</td>\n",
       "      <td>0.00</td>\n",
       "      <td>,,N</td>\n",
       "      <td>0.0</td>\n",
       "      <td>,,N</td>\n",
       "      <td>NaN</td>\n",
       "      <td>NaN</td>\n",
       "    </tr>\n",
       "  </tbody>\n",
       "</table>\n",
       "</div>"
      ],
      "text/plain": [
       "            §§                            NAME     DATE  DAPR DAPR_ATTRIBUTES  \\\n",
       "0  US1VACRC002  CHARLOTTESVILLE 0.5 NNE, VA US   1/4/24   NaN             NaN   \n",
       "1  US1VACRC002  CHARLOTTESVILLE 0.5 NNE, VA US   1/7/24   NaN             NaN   \n",
       "2  US1VACRC002  CHARLOTTESVILLE 0.5 NNE, VA US   1/9/24   NaN             NaN   \n",
       "3  US1VACRC002  CHARLOTTESVILLE 0.5 NNE, VA US  1/10/24   NaN             NaN   \n",
       "4  US1VACRC002  CHARLOTTESVILLE 0.5 NNE, VA US  1/24/24   NaN             NaN   \n",
       "\n",
       "   MDPR MDPR_ATTRIBUTES  PRCP PRCP_ATTRIBUTES  SNOW SNOW_ATTRIBUTES  SNWD  \\\n",
       "0   NaN             NaN  0.03             ,,N   NaN             NaN   NaN   \n",
       "1   NaN             NaN  1.08             ,,N   NaN             NaN   NaN   \n",
       "2   NaN             NaN  0.24             ,,N   NaN             NaN   NaN   \n",
       "3   NaN             NaN  3.00             ,,N   NaN             NaN   NaN   \n",
       "4   NaN             NaN  0.00             ,,N   0.0             ,,N   NaN   \n",
       "\n",
       "  SNWD_ATTRIBUTES  \n",
       "0             NaN  \n",
       "1             NaN  \n",
       "2             NaN  \n",
       "3             NaN  \n",
       "4             NaN  "
      ]
     },
     "execution_count": 141,
     "metadata": {},
     "output_type": "execute_result"
    }
   ],
   "source": [
    "weather = pd.read_csv('cville_weather.csv', encoding='latin-1')\n",
    "weather.head()"
   ]
  },
  {
   "cell_type": "code",
   "execution_count": 142,
   "id": "367988d1",
   "metadata": {},
   "outputs": [
    {
     "name": "stdout",
     "output_type": "stream",
     "text": [
      "<class 'pandas.core.frame.DataFrame'>\n",
      "RangeIndex: 411 entries, 0 to 410\n",
      "Data columns (total 13 columns):\n",
      " #   Column           Non-Null Count  Dtype  \n",
      "---  ------           --------------  -----  \n",
      " 0   §§               411 non-null    object \n",
      " 1   NAME             411 non-null    object \n",
      " 2   DATE             411 non-null    object \n",
      " 3   DAPR             12 non-null     float64\n",
      " 4   DAPR_ATTRIBUTES  12 non-null     object \n",
      " 5   MDPR             12 non-null     float64\n",
      " 6   MDPR_ATTRIBUTES  12 non-null     object \n",
      " 7   PRCP             399 non-null    float64\n",
      " 8   PRCP_ATTRIBUTES  399 non-null    object \n",
      " 9   SNOW             223 non-null    float64\n",
      " 10  SNOW_ATTRIBUTES  223 non-null    object \n",
      " 11  SNWD             1 non-null      float64\n",
      " 12  SNWD_ATTRIBUTES  1 non-null      object \n",
      "dtypes: float64(5), object(8)\n",
      "memory usage: 41.9+ KB\n"
     ]
    }
   ],
   "source": [
    "weather.info()"
   ]
  },
  {
   "cell_type": "markdown",
   "id": "145831a1",
   "metadata": {},
   "source": [
    "There are missing data issues. `§§`, `NAME`, and `DATE` each have no missing values, `PRCP` and `PRCP_ATTRIBUTES` are each missing very few, `SNOW` and `SNOW_ATTRIBUTES` are both missing about half, and the rest are missing almost all of their values. "
   ]
  },
  {
   "cell_type": "code",
   "execution_count": 143,
   "id": "4cb98565",
   "metadata": {},
   "outputs": [
    {
     "data": {
      "text/plain": [
       "rain\n",
       "0    232\n",
       "1    179\n",
       "Name: count, dtype: int64"
      ]
     },
     "execution_count": 143,
     "metadata": {},
     "output_type": "execute_result"
    }
   ],
   "source": [
    "weather['rain'] = (weather['PRCP'] > 0).astype(int)\n",
    "weather['rain'].value_counts()"
   ]
  },
  {
   "cell_type": "code",
   "execution_count": 144,
   "id": "18ac6442",
   "metadata": {},
   "outputs": [
    {
     "data": {
      "text/html": [
       "<div>\n",
       "<style scoped>\n",
       "    .dataframe tbody tr th:only-of-type {\n",
       "        vertical-align: middle;\n",
       "    }\n",
       "\n",
       "    .dataframe tbody tr th {\n",
       "        vertical-align: top;\n",
       "    }\n",
       "\n",
       "    .dataframe thead th {\n",
       "        text-align: right;\n",
       "    }\n",
       "</style>\n",
       "<table border=\"1\" class=\"dataframe\">\n",
       "  <thead>\n",
       "    <tr style=\"text-align: right;\">\n",
       "      <th></th>\n",
       "      <th>0</th>\n",
       "      <th>1</th>\n",
       "    </tr>\n",
       "  </thead>\n",
       "  <tbody>\n",
       "    <tr>\n",
       "      <th>0</th>\n",
       "      <td>0.732</td>\n",
       "      <td>0.268</td>\n",
       "    </tr>\n",
       "    <tr>\n",
       "      <th>1</th>\n",
       "      <td>0.352</td>\n",
       "      <td>0.648</td>\n",
       "    </tr>\n",
       "  </tbody>\n",
       "</table>\n",
       "</div>"
      ],
      "text/plain": [
       "       0      1\n",
       "0  0.732  0.268\n",
       "1  0.352  0.648"
      ]
     },
     "execution_count": 144,
     "metadata": {},
     "output_type": "execute_result"
    }
   ],
   "source": [
    "rain = weather['rain'].values\n",
    "states = [0, 1]\n",
    "S = len(states)\n",
    "T = len(rain)\n",
    "tr_counts = np.zeros((S, S))\n",
    "\n",
    "for t in range(1, T):\n",
    "    x_previous = rain[t -1]\n",
    "    x_current = rain[t]\n",
    "    tr_counts[x_previous, x_current] += 1\n",
    "\n",
    "sums = tr_counts.sum(axis=1, keepdims=True)\n",
    "tr_pr = np.divide(tr_counts, sums, out=np.zeros_like(tr_counts), where= sums!=0)\n",
    "\n",
    "pd.DataFrame(np.round(tr_pr,3), index=states, columns=states)"
   ]
  },
  {
   "cell_type": "markdown",
   "id": "985bea91",
   "metadata": {},
   "source": [
    "So there is a 64.8% chance it will rain again if it rained the day before. There is a 26.8% chance of rain following a clear day. "
   ]
  },
  {
   "cell_type": "code",
   "execution_count": null,
   "id": "09bc2fb2",
   "metadata": {},
   "outputs": [
    {
     "data": {
      "text/plain": [
       "[array([0.732, 0.268]),\n",
       " array([0.63016, 0.36984]),\n",
       " array([0.5914608, 0.4085392]),\n",
       " array([0.5767551, 0.4232449]),\n",
       " array([0.57116694, 0.42883306]),\n",
       " array([0.56904344, 0.43095656]),\n",
       " array([0.56823651, 0.43176349]),\n",
       " array([0.56792987, 0.43207013]),\n",
       " array([0.56781335, 0.43218665]),\n",
       " array([0.56776907, 0.43223093]),\n",
       " array([0.56775225, 0.43224775]),\n",
       " array([0.56774585, 0.43225415]),\n",
       " array([0.56774342, 0.43225658])]"
      ]
     },
     "execution_count": 145,
     "metadata": {},
     "output_type": "execute_result"
    }
   ],
   "source": [
    "P = np.array([[0.732, 0.268], [0.352, 0.648]])\n",
    "\n",
    "# no rain\n",
    "initial_state_no_rain = np.array([1, 0])  \n",
    "forecast_no_rain = []\n",
    "power = P.copy()\n",
    "for t in range(1, 14):\n",
    "    forecast_no_rain.append(initial_state_no_rain @ power)\n",
    "    power = power @ P\n",
    "forecast_no_rain"
   ]
  },
  {
   "cell_type": "markdown",
   "id": "af88d501",
   "metadata": {},
   "source": [
    "The forecast stabilizes around the 7th day, so the Markov chain reaches its stationary distribution pretty quickly. Given there was no rain the day before, the system converges to a chance of about 56.7% clear and 43.2% rainy. "
   ]
  },
  {
   "cell_type": "code",
   "execution_count": 146,
   "id": "0bcf20ae",
   "metadata": {},
   "outputs": [
    {
     "data": {
      "text/plain": [
       "[array([0.352, 0.648]),\n",
       " array([0.48576, 0.51424]),\n",
       " array([0.5365888, 0.4634112]),\n",
       " array([0.55590374, 0.44409626]),\n",
       " array([0.56324342, 0.43675658]),\n",
       " array([0.5660325, 0.4339675]),\n",
       " array([0.56709235, 0.43290765]),\n",
       " array([0.56749509, 0.43250491]),\n",
       " array([0.56764814, 0.43235186]),\n",
       " array([0.56770629, 0.43229371]),\n",
       " array([0.56772839, 0.43227161]),\n",
       " array([0.56773679, 0.43226321]),\n",
       " array([0.56773998, 0.43226002])]"
      ]
     },
     "execution_count": 146,
     "metadata": {},
     "output_type": "execute_result"
    }
   ],
   "source": [
    "# rain\n",
    "initial_state_rain = np.array([0, 1])  \n",
    "forecast_rain = []\n",
    "power = P.copy()\n",
    "for t in range(1, 14):\n",
    "    forecast_rain.append(initial_state_rain @ power)\n",
    "    power = power @ P\n",
    "forecast_rain"
   ]
  },
  {
   "cell_type": "markdown",
   "id": "c4f27145",
   "metadata": {},
   "source": [
    "This system also stabilizes around the 7th day. Given it was rainy the day before, the system also converges to a chance of about 56.7% clear and 43.2% rainy. "
   ]
  },
  {
   "cell_type": "code",
   "execution_count": 147,
   "id": "202659be",
   "metadata": {},
   "outputs": [
    {
     "data": {
      "image/png": "[encoded data removed]",
      "text/plain": [
       "<Figure size 640x480 with 1 Axes>"
      ]
     },
     "metadata": {},
     "output_type": "display_data"
    }
   ],
   "source": [
    "rainy_prcp = weather.loc[weather['rain'] == 1, 'PRCP']\n",
    "sns.kdeplot(rainy_prcp, fill=True, color='skyblue')\n",
    "plt.title(\"KDE of PRCP on Rainy Days\")\n",
    "plt.xlabel(\"Precipitation\")\n",
    "plt.ylabel(\"Density\")\n",
    "plt.show()"
   ]
  },
  {
   "cell_type": "markdown",
   "id": "cf23131d",
   "metadata": {},
   "source": [
    "The peak of this KDE curve shows that the most common amount of precipitation on rainy days is around 0.2 inches. The distribution is relatively narrow, suggesting that most rainy days had light rain. However, the right skew indicates some variability, with a few days experiencing much heavier rain, sometimes as much as 4 to 6 inches."
   ]
  },
  {
   "cell_type": "markdown",
   "id": "89817419",
   "metadata": {},
   "source": [
    "One way I could improve my model is to make the Markov chain time-dependent by implementing a chain where the transition probabilities change over time, for example, by season or by month. In my current model, the transition matrix T is assumed to be constant throughout the entire time period, which implies that the probability of rain today given yesterday's weather is the same in January as it is in July. But weather patterns are very heavily skewed by seasonal factors. By allowing the transition probability to vary with time, I could model seasonality explicityly. For example, I could estimate seperate transition matrices for each month or season using historical weather data. A time-varying model would better capture typical increased rain probabilities in spring and fall, higher chances of snow or frozen percipitation in the winter, and drier summer months where rain is much less frequent. "
   ]
  },
  {
   "cell_type": "markdown",
   "id": "b953c2c4",
   "metadata": {},
   "source": [
    "4. Taxicab trajectories: Using the pickled taxicab data, we want to complete the exercise from class.\n",
    "\n",
    "- For the taxicab trajectory data, determine your state space and clean your sequences of cab rides.\n",
    "- Compute the transition matrix for the taxicab data between neighborhoods in Manhattan. Plot it in a heat map. What are the most common routes?\n",
    "- Explain why taxicabs are most likely order 1, and not 2 or more.\n",
    "- Starting at Hell's Kitchen, create a sequence of forecasts of where the cab is likely to be in 2, 3, 5, and 10 trips\n",
    "- Starting at any neighborhood, iterate your forecast until it is no longer changing very much. Where do cabs spend most of their time working in Manhattan?"
   ]
  },
  {
   "cell_type": "code",
   "execution_count": null,
   "id": "ba976718",
   "metadata": {},
   "outputs": [
    {
     "name": "stdout",
     "output_type": "stream",
     "text": [
      "1000\n"
     ]
    }
   ],
   "source": [
    "with open ('taxicab.pkl', 'rb') as f:\n",
    "    data = pickle.load(f)\n",
    "print(len(data))"
   ]
  },
  {
   "cell_type": "code",
   "execution_count": 160,
   "id": "9f7653fe",
   "metadata": {},
   "outputs": [
    {
     "data": {
      "text/plain": [
       "[\"Hell's Kitchen\",\n",
       " 'Upper East Side',\n",
       " 'SoHo',\n",
       " 'East Harlem',\n",
       " 'Battery Park City',\n",
       " 'Chelsea',\n",
       " 'Outside Manhattan',\n",
       " 'Roosevelt Island',\n",
       " 'Upper West Side',\n",
       " 'Financial District',\n",
       " 'Inwood',\n",
       " 'Liberty Island',\n",
       " 'Stuyvesant Town',\n",
       " 'Flatiron District',\n",
       " 'Theater District',\n",
       " 'Morningside Heights',\n",
       " 'Midtown',\n",
       " 'Chinatown',\n",
       " 'NoHo',\n",
       " 'Murray Hill',\n",
       " 'Tribeca',\n",
       " 'East Village',\n",
       " 'Gramercy',\n",
       " 'Washington Heights',\n",
       " 'Nolita',\n",
       " 'Little Italy',\n",
       " 'Two Bridges',\n",
       " 'Kips Bay',\n",
       " 'Greenwich Village',\n",
       " \"Randall's Island\",\n",
       " 'Harlem',\n",
       " 'Civic Center',\n",
       " 'Governors Island',\n",
       " 'Lower East Side',\n",
       " 'Ellis Island',\n",
       " 'Central Park',\n",
       " 'West Village',\n",
       " 'Marble Hill']"
      ]
     },
     "execution_count": 160,
     "metadata": {},
     "output_type": "execute_result"
    }
   ],
   "source": [
    "# Extract state space:\n",
    "states = set(data[0])\n",
    "for i in range(1, len(data)):\n",
    "    trip_i = set(data[i])\n",
    "    states = states.union(trip_i)\n",
    "states = list(states)\n",
    "states"
   ]
  },
  {
   "cell_type": "code",
   "execution_count": 161,
   "id": "a104e47d",
   "metadata": {},
   "outputs": [
    {
     "name": "stdout",
     "output_type": "stream",
     "text": [
      "Transition Counts:\n",
      " [[3.463220e+05 5.555700e+04 1.324100e+04 ... 1.452300e+04 3.476500e+04\n",
      "  4.700000e+01]\n",
      " [4.910700e+04 1.283151e+06 1.425400e+04 ... 9.231900e+04 2.253800e+04\n",
      "  3.400000e+01]\n",
      " [1.298500e+04 1.547600e+04 1.386320e+05 ... 1.752000e+03 4.846100e+04\n",
      "  3.000000e+00]\n",
      " ...\n",
      " [1.314600e+04 7.265000e+04 2.123000e+03 ... 5.226800e+04 3.243000e+03\n",
      "  5.000000e+00]\n",
      " [3.124800e+04 2.536400e+04 4.091300e+04 ... 3.028000e+03 2.424690e+05\n",
      "  7.000000e+00]\n",
      " [3.700000e+01 3.700000e+01 0.000000e+00 ... 6.000000e+00 9.000000e+00\n",
      "  1.600000e+01]]\n"
     ]
    }
   ],
   "source": [
    "# Compute transition counts:\n",
    "S = len(states)\n",
    "tr_counts = np.zeros((S, S))\n",
    "\n",
    "for trip in data:\n",
    "    seq = np.array(trip)\n",
    "    for t in range(1, len(seq)):\n",
    "        x_tm1 = seq[t - 1]\n",
    "        x_t = seq[t]\n",
    "        index_from = states.index(x_tm1)\n",
    "        index_to = states.index(x_t)\n",
    "        tr_counts[index_from, index_to] += 1\n",
    "print('Transition Counts:\\n', tr_counts)"
   ]
  },
  {
   "cell_type": "code",
   "execution_count": 162,
   "id": "5f240dc6",
   "metadata": {},
   "outputs": [
    {
     "name": "stdout",
     "output_type": "stream",
     "text": [
      "State proportions: \n",
      "\n",
      "[[1.224325e+06 2.797713e+06 5.505970e+05 3.168490e+05 2.292330e+05\n",
      "  1.978283e+06 2.363961e+06 8.010000e+03 1.803491e+06 4.415950e+05\n",
      "  1.431200e+04 1.000000e+00 1.112860e+05 3.952740e+05 8.740550e+05\n",
      "  1.627050e+05 3.851929e+06 1.058730e+05 1.743220e+05 6.543970e+05\n",
      "  4.086400e+05 8.886440e+05 5.017430e+05 7.253000e+04 1.063770e+05\n",
      "  3.859100e+04 1.038800e+04 5.077760e+05 5.102620e+05 3.603000e+03\n",
      "  2.171620e+05 5.790800e+04 1.200000e+01 3.705660e+05 3.000000e+00\n",
      "  3.701250e+05 8.393620e+05 4.930000e+02]]\n"
     ]
    }
   ],
   "source": [
    "sums = tr_counts.sum(axis = 0, keepdims=True)\n",
    "print('State proportions: \\n')\n",
    "print(sums)"
   ]
  },
  {
   "cell_type": "code",
   "execution_count": 150,
   "id": "575c92e5",
   "metadata": {},
   "outputs": [],
   "source": [
    "state_to_index = {state: index for index, state in enumerate(states)}\n",
    "index_to_state = {index: state for state, index in state_to_index.items()}\n",
    "cleaned = [t.dropna().reset_index(drop=True) for t in taxi]"
   ]
  },
  {
   "cell_type": "code",
   "execution_count": 173,
   "id": "758af423",
   "metadata": {},
   "outputs": [
    {
     "name": "stdout",
     "output_type": "stream",
     "text": [
      "Transition Proportions: \n",
      "\n",
      "                     Hell's Kitchen  Upper East Side  SoHo  East Harlem  \\\n",
      "Hell's Kitchen                 0.28             0.02  0.02         0.02   \n",
      "Upper East Side                0.04             0.46  0.03         0.28   \n",
      "SoHo                           0.01             0.01  0.25         0.00   \n",
      "East Harlem                    0.00             0.03  0.00         0.23   \n",
      "Battery Park City              0.01             0.00  0.02         0.00   \n",
      "Chelsea                        0.12             0.03  0.08         0.02   \n",
      "Outside Manhattan              0.04             0.05  0.08         0.08   \n",
      "Roosevelt Island               0.00             0.00  0.00         0.00   \n",
      "Upper West Side                0.11             0.07  0.02         0.08   \n",
      "Financial District             0.01             0.00  0.03         0.00   \n",
      "Inwood                         0.00             0.00  0.00         0.00   \n",
      "Liberty Island                 0.00             0.00  0.00         0.00   \n",
      "Stuyvesant Town                0.00             0.00  0.00         0.00   \n",
      "Flatiron District              0.01             0.01  0.02         0.00   \n",
      "Theater District               0.08             0.02  0.02         0.02   \n",
      "Morningside Heights            0.01             0.00  0.00         0.02   \n",
      "Midtown                        0.15             0.17  0.08         0.08   \n",
      "Chinatown                      0.00             0.00  0.01         0.00   \n",
      "NoHo                           0.00             0.00  0.02         0.00   \n",
      "Murray Hill                    0.02             0.02  0.01         0.01   \n",
      "Tribeca                        0.01             0.00  0.07         0.00   \n",
      "East Village                   0.01             0.01  0.04         0.01   \n",
      "Gramercy                       0.01             0.01  0.02         0.01   \n",
      "Washington Heights             0.00             0.00  0.00         0.01   \n",
      "Nolita                         0.00             0.00  0.02         0.00   \n",
      "Little Italy                   0.00             0.00  0.01         0.00   \n",
      "Two Bridges                    0.00             0.00  0.00         0.00   \n",
      "Kips Bay                       0.01             0.01  0.01         0.01   \n",
      "Greenwich Village              0.01             0.01  0.05         0.00   \n",
      "Randall's Island               0.00             0.00  0.00         0.00   \n",
      "Harlem                         0.01             0.01  0.00         0.05   \n",
      "Civic Center                   0.00             0.00  0.01         0.00   \n",
      "Governors Island               0.00             0.00  0.00         0.00   \n",
      "Lower East Side                0.01             0.00  0.02         0.01   \n",
      "Ellis Island                   0.00             0.00  0.00         0.00   \n",
      "Central Park                   0.01             0.03  0.00         0.02   \n",
      "West Village                   0.03             0.01  0.07         0.01   \n",
      "Marble Hill                    0.00             0.00  0.00         0.00   \n",
      "\n",
      "                     Battery Park City  Chelsea  Outside Manhattan  \\\n",
      "Hell's Kitchen                    0.04     0.07               0.03   \n",
      "Upper East Side                   0.03     0.04               0.05   \n",
      "SoHo                              0.04     0.02               0.02   \n",
      "East Harlem                       0.00     0.00               0.01   \n",
      "Battery Park City                 0.26     0.01               0.01   \n",
      "Chelsea                           0.07     0.33               0.04   \n",
      "Outside Manhattan                 0.06     0.03               0.51   \n",
      "Roosevelt Island                  0.00     0.00               0.00   \n",
      "Upper West Side                   0.02     0.03               0.03   \n",
      "Financial District                0.09     0.01               0.01   \n",
      "Inwood                            0.00     0.00               0.00   \n",
      "Liberty Island                    0.00     0.00               0.00   \n",
      "Stuyvesant Town                   0.00     0.00               0.00   \n",
      "Flatiron District                 0.01     0.03               0.01   \n",
      "Theater District                  0.02     0.04               0.02   \n",
      "Morningside Heights               0.00     0.00               0.00   \n",
      "Midtown                           0.08     0.14               0.09   \n",
      "Chinatown                         0.01     0.00               0.00   \n",
      "NoHo                              0.01     0.01               0.01   \n",
      "Murray Hill                       0.01     0.02               0.02   \n",
      "Tribeca                           0.10     0.02               0.01   \n",
      "East Village                      0.02     0.03               0.03   \n",
      "Gramercy                          0.01     0.03               0.01   \n",
      "Washington Heights                0.00     0.00               0.00   \n",
      "Nolita                            0.00     0.00               0.00   \n",
      "Little Italy                      0.00     0.00               0.00   \n",
      "Two Bridges                       0.00     0.00               0.00   \n",
      "Kips Bay                          0.01     0.02               0.01   \n",
      "Greenwich Village                 0.02     0.03               0.01   \n",
      "Randall's Island                  0.00     0.00               0.00   \n",
      "Harlem                            0.00     0.00               0.01   \n",
      "Civic Center                      0.01     0.00               0.00   \n",
      "Governors Island                  0.00     0.00               0.00   \n",
      "Lower East Side                   0.01     0.01               0.02   \n",
      "Ellis Island                      0.00     0.00               0.00   \n",
      "Central Park                      0.00     0.01               0.01   \n",
      "West Village                      0.05     0.06               0.02   \n",
      "Marble Hill                       0.00     0.00               0.00   \n",
      "\n",
      "                     Roosevelt Island  Upper West Side  Financial District  \\\n",
      "Hell's Kitchen                   0.03             0.07                0.03   \n",
      "Upper East Side                  0.12             0.11                0.04   \n",
      "SoHo                             0.01             0.01                0.03   \n",
      "East Harlem                      0.01             0.02                0.00   \n",
      "Battery Park City                0.00             0.00                0.05   \n",
      "Chelsea                          0.05             0.04                0.05   \n",
      "Outside Manhattan                0.23             0.03                0.09   \n",
      "Roosevelt Island                 0.12             0.00                0.00   \n",
      "Upper West Side                  0.04             0.42                0.01   \n",
      "Financial District               0.01             0.00                0.31   \n",
      "Inwood                           0.00             0.00                0.00   \n",
      "Liberty Island                   0.00             0.00                0.00   \n",
      "Stuyvesant Town                  0.00             0.00                0.00   \n",
      "Flatiron District                0.01             0.01                0.01   \n",
      "Theater District                 0.03             0.03                0.02   \n",
      "Morningside Heights              0.00             0.03                0.00   \n",
      "Midtown                          0.18             0.10                0.09   \n",
      "Chinatown                        0.00             0.00                0.01   \n",
      "NoHo                             0.00             0.00                0.01   \n",
      "Murray Hill                      0.03             0.01                0.02   \n",
      "Tribeca                          0.01             0.00                0.05   \n",
      "East Village                     0.03             0.01                0.03   \n",
      "Gramercy                         0.01             0.01                0.01   \n",
      "Washington Heights               0.00             0.01                0.00   \n",
      "Nolita                           0.00             0.00                0.01   \n",
      "Little Italy                     0.00             0.00                0.00   \n",
      "Two Bridges                      0.00             0.00                0.01   \n",
      "Kips Bay                         0.02             0.01                0.01   \n",
      "Greenwich Village                0.01             0.01                0.02   \n",
      "Randall's Island                 0.00             0.00                0.00   \n",
      "Harlem                           0.00             0.03                0.00   \n",
      "Civic Center                     0.00             0.00                0.01   \n",
      "Governors Island                 0.00             0.00                0.00   \n",
      "Lower East Side                  0.01             0.00                0.03   \n",
      "Ellis Island                     0.00             0.00                0.00   \n",
      "Central Park                     0.01             0.05                0.00   \n",
      "West Village                     0.02             0.01                0.03   \n",
      "Marble Hill                      0.00             0.00                0.00   \n",
      "\n",
      "                     Inwood  Liberty Island  Stuyvesant Town  \\\n",
      "Hell's Kitchen         0.10             0.0             0.02   \n",
      "Upper East Side        0.08             0.0             0.05   \n",
      "SoHo                   0.01             0.0             0.02   \n",
      "East Harlem            0.02             0.0             0.01   \n",
      "Battery Park City      0.00             0.0             0.01   \n",
      "Chelsea                0.08             0.0             0.06   \n",
      "Outside Manhattan      0.10             0.0             0.07   \n",
      "Roosevelt Island       0.00             0.0             0.00   \n",
      "Upper West Side        0.15             0.0             0.02   \n",
      "Financial District     0.01             0.0             0.02   \n",
      "Inwood                 0.07             0.0             0.00   \n",
      "Liberty Island         0.00             0.0             0.00   \n",
      "Stuyvesant Town        0.00             0.0             0.14   \n",
      "Flatiron District      0.01             0.0             0.02   \n",
      "Theater District       0.04             0.0             0.01   \n",
      "Morningside Heights    0.03             0.0             0.00   \n",
      "Midtown                0.10             0.0             0.11   \n",
      "Chinatown              0.00             0.0             0.01   \n",
      "NoHo                   0.00             0.0             0.01   \n",
      "Murray Hill            0.01             0.0             0.03   \n",
      "Tribeca                0.01             0.0             0.01   \n",
      "East Village           0.02             0.0             0.16   \n",
      "Gramercy               0.01             0.0             0.07   \n",
      "Washington Heights     0.03             0.0             0.00   \n",
      "Nolita                 0.00             0.0             0.00   \n",
      "Little Italy           0.00             0.0             0.00   \n",
      "Two Bridges            0.00             0.0             0.00   \n",
      "Kips Bay               0.01             0.0             0.05   \n",
      "Greenwich Village      0.01             1.0             0.03   \n",
      "Randall's Island       0.00             0.0             0.00   \n",
      "Harlem                 0.03             0.0             0.00   \n",
      "Civic Center           0.00             0.0             0.00   \n",
      "Governors Island       0.00             0.0             0.00   \n",
      "Lower East Side        0.01             0.0             0.03   \n",
      "Ellis Island           0.00             0.0             0.00   \n",
      "Central Park           0.01             0.0             0.00   \n",
      "West Village           0.02             0.0             0.02   \n",
      "Marble Hill            0.00             0.0             0.00   \n",
      "\n",
      "                     Flatiron District  Theater District  Morningside Heights  \\\n",
      "Hell's Kitchen                    0.03              0.11                 0.03   \n",
      "Upper East Side                   0.05              0.06                 0.08   \n",
      "SoHo                              0.02              0.01                 0.00   \n",
      "East Harlem                       0.00              0.01                 0.03   \n",
      "Battery Park City                 0.01              0.01                 0.00   \n",
      "Chelsea                           0.15              0.08                 0.03   \n",
      "Outside Manhattan                 0.03              0.05                 0.06   \n",
      "Roosevelt Island                  0.00              0.00                 0.00   \n",
      "Upper West Side                   0.02              0.07                 0.25   \n",
      "Financial District                0.01              0.01                 0.00   \n",
      "Inwood                            0.00              0.00                 0.01   \n",
      "Liberty Island                    0.00              0.00                 0.00   \n",
      "Stuyvesant Town                   0.01              0.00                 0.00   \n",
      "Flatiron District                 0.16              0.01                 0.00   \n",
      "Theater District                  0.02              0.21                 0.02   \n",
      "Morningside Heights               0.00              0.00                 0.20   \n",
      "Midtown                           0.20              0.23                 0.05   \n",
      "Chinatown                         0.00              0.00                 0.00   \n",
      "NoHo                              0.01              0.00                 0.00   \n",
      "Murray Hill                       0.04              0.02                 0.01   \n",
      "Tribeca                           0.01              0.01                 0.00   \n",
      "East Village                      0.04              0.01                 0.01   \n",
      "Gramercy                          0.04              0.01                 0.00   \n",
      "Washington Heights                0.00              0.00                 0.05   \n",
      "Nolita                            0.00              0.00                 0.00   \n",
      "Little Italy                      0.00              0.00                 0.00   \n",
      "Two Bridges                       0.00              0.00                 0.00   \n",
      "Kips Bay                          0.04              0.01                 0.00   \n",
      "Greenwich Village                 0.03              0.01                 0.00   \n",
      "Randall's Island                  0.00              0.00                 0.00   \n",
      "Harlem                            0.00              0.00                 0.12   \n",
      "Civic Center                      0.00              0.00                 0.00   \n",
      "Governors Island                  0.00              0.00                 0.00   \n",
      "Lower East Side                   0.01              0.00                 0.00   \n",
      "Ellis Island                      0.00              0.00                 0.00   \n",
      "Central Park                      0.01              0.02                 0.02   \n",
      "West Village                      0.04              0.02                 0.01   \n",
      "Marble Hill                       0.00              0.00                 0.00   \n",
      "\n",
      "                     Midtown  Chinatown  NoHo  Murray Hill  Tribeca  \\\n",
      "Hell's Kitchen          0.05       0.02  0.02         0.03     0.03   \n",
      "Upper East Side         0.13       0.02  0.04         0.08     0.03   \n",
      "SoHo                    0.01       0.05  0.06         0.01     0.05   \n",
      "East Harlem             0.01       0.00  0.00         0.00     0.00   \n",
      "Battery Park City       0.00       0.01  0.01         0.00     0.07   \n",
      "Chelsea                 0.07       0.05  0.07         0.06     0.07   \n",
      "Outside Manhattan       0.05       0.19  0.07         0.05     0.10   \n",
      "Roosevelt Island        0.00       0.00  0.00         0.00     0.00   \n",
      "Upper West Side         0.06       0.01  0.01         0.02     0.02   \n",
      "Financial District      0.01       0.08  0.01         0.01     0.09   \n",
      "Inwood                  0.00       0.00  0.00         0.00     0.00   \n",
      "Liberty Island          0.00       0.00  0.00         0.00     0.00   \n",
      "Stuyvesant Town         0.00       0.00  0.01         0.01     0.00   \n",
      "Flatiron District       0.02       0.01  0.02         0.03     0.01   \n",
      "Theater District        0.05       0.02  0.01         0.03     0.02   \n",
      "Morningside Heights     0.00       0.00  0.00         0.00     0.00   \n",
      "Midtown                 0.36       0.06  0.08         0.25     0.07   \n",
      "Chinatown               0.00       0.13  0.01         0.00     0.01   \n",
      "NoHo                    0.00       0.01  0.14         0.01     0.01   \n",
      "Murray Hill             0.04       0.01  0.02         0.20     0.01   \n",
      "Tribeca                 0.01       0.04  0.02         0.01     0.25   \n",
      "East Village            0.02       0.06  0.12         0.04     0.02   \n",
      "Gramercy                0.02       0.02  0.04         0.04     0.01   \n",
      "Washington Heights      0.00       0.00  0.00         0.00     0.00   \n",
      "Nolita                  0.00       0.01  0.03         0.00     0.00   \n",
      "Little Italy            0.00       0.01  0.01         0.00     0.00   \n",
      "Two Bridges             0.00       0.01  0.00         0.00     0.00   \n",
      "Kips Bay                0.02       0.01  0.02         0.07     0.01   \n",
      "Greenwich Village       0.01       0.03  0.08         0.02     0.02   \n",
      "Randall's Island        0.00       0.00  0.00         0.00     0.00   \n",
      "Harlem                  0.00       0.00  0.00         0.00     0.00   \n",
      "Civic Center            0.00       0.02  0.00         0.00     0.02   \n",
      "Governors Island        0.00       0.00  0.00         0.00     0.00   \n",
      "Lower East Side         0.01       0.06  0.04         0.01     0.01   \n",
      "Ellis Island            0.00       0.00  0.00         0.00     0.00   \n",
      "Central Park            0.02       0.00  0.00         0.01     0.00   \n",
      "West Village            0.02       0.03  0.05         0.02     0.06   \n",
      "Marble Hill             0.00       0.00  0.00         0.00     0.00   \n",
      "\n",
      "                     East Village  Gramercy  Washington Heights  Nolita  \\\n",
      "Hell's Kitchen               0.02      0.02                0.08    0.02   \n",
      "Upper East Side              0.04      0.05                0.08    0.03   \n",
      "SoHo                         0.03      0.02                0.01    0.08   \n",
      "East Harlem                  0.00      0.00                0.02    0.00   \n",
      "Battery Park City            0.01      0.00                0.00    0.01   \n",
      "Chelsea                      0.06      0.08                0.06    0.06   \n",
      "Outside Manhattan            0.09      0.05                0.09    0.14   \n",
      "Roosevelt Island             0.00      0.00                0.00    0.00   \n",
      "Upper West Side              0.01      0.02                0.18    0.01   \n",
      "Financial District           0.02      0.01                0.01    0.02   \n",
      "Inwood                       0.00      0.00                0.02    0.00   \n",
      "Liberty Island               0.00      0.00                0.00    0.00   \n",
      "Stuyvesant Town              0.01      0.02                0.00    0.00   \n",
      "Flatiron District            0.02      0.04                0.01    0.01   \n",
      "Theater District             0.01      0.02                0.03    0.01   \n",
      "Morningside Heights          0.00      0.00                0.04    0.00   \n",
      "Midtown                      0.09      0.14                0.08    0.07   \n",
      "Chinatown                    0.01      0.00                0.00    0.02   \n",
      "NoHo                         0.02      0.02                0.00    0.02   \n",
      "Murray Hill                  0.03      0.04                0.01    0.01   \n",
      "Tribeca                      0.01      0.01                0.01    0.03   \n",
      "East Village                 0.27      0.12                0.02    0.06   \n",
      "Gramercy                     0.05      0.18                0.01    0.02   \n",
      "Washington Heights           0.00      0.00                0.15    0.00   \n",
      "Nolita                       0.01      0.01                0.00    0.16   \n",
      "Little Italy                 0.00      0.00                0.00    0.03   \n",
      "Two Bridges                  0.00      0.00                0.00    0.00   \n",
      "Kips Bay                     0.04      0.05                0.01    0.02   \n",
      "Greenwich Village            0.04      0.03                0.01    0.03   \n",
      "Randall's Island             0.00      0.00                0.00    0.00   \n",
      "Harlem                       0.00      0.00                0.04    0.00   \n",
      "Civic Center                 0.00      0.00                0.00    0.01   \n",
      "Governors Island             0.00      0.00                0.00    0.00   \n",
      "Lower East Side              0.06      0.03                0.01    0.06   \n",
      "Ellis Island                 0.00      0.00                0.00    0.00   \n",
      "Central Park                 0.00      0.00                0.01    0.00   \n",
      "West Village                 0.04      0.03                0.02    0.05   \n",
      "Marble Hill                  0.00      0.00                0.00    0.00   \n",
      "\n",
      "                     Little Italy  Two Bridges  Kips Bay  Greenwich Village  \\\n",
      "Hell's Kitchen               0.02         0.02      0.02               0.02   \n",
      "Upper East Side              0.02         0.05      0.07               0.04   \n",
      "SoHo                         0.06         0.02      0.01               0.05   \n",
      "East Harlem                  0.00         0.01      0.01               0.00   \n",
      "Battery Park City            0.01         0.02      0.00               0.01   \n",
      "Chelsea                      0.05         0.04      0.06               0.10   \n",
      "Outside Manhattan            0.24         0.13      0.05               0.04   \n",
      "Roosevelt Island             0.00         0.00      0.00               0.00   \n",
      "Upper West Side              0.01         0.01      0.02               0.02   \n",
      "Financial District           0.04         0.17      0.01               0.02   \n",
      "Inwood                       0.00         0.00      0.00               0.00   \n",
      "Liberty Island               0.00         0.00      0.00               0.00   \n",
      "Stuyvesant Town              0.00         0.01      0.02               0.01   \n",
      "Flatiron District            0.01         0.01      0.03               0.03   \n",
      "Theater District             0.02         0.01      0.02               0.02   \n",
      "Morningside Heights          0.00         0.00      0.00               0.00   \n",
      "Midtown                      0.07         0.08      0.18               0.10   \n",
      "Chinatown                    0.08         0.03      0.00               0.00   \n",
      "NoHo                         0.01         0.01      0.01               0.02   \n",
      "Murray Hill                  0.01         0.02      0.07               0.02   \n",
      "Tribeca                      0.03         0.03      0.01               0.02   \n",
      "East Village                 0.04         0.07      0.08               0.07   \n",
      "Gramercy                     0.01         0.02      0.06               0.04   \n",
      "Washington Heights           0.00         0.00      0.00               0.00   \n",
      "Nolita                       0.02         0.01      0.00               0.01   \n",
      "Little Italy                 0.10         0.00      0.00               0.00   \n",
      "Two Bridges                  0.00         0.08      0.00               0.00   \n",
      "Kips Bay                     0.01         0.02      0.19               0.02   \n",
      "Greenwich Village            0.02         0.02      0.02               0.22   \n",
      "Randall's Island             0.00         0.00      0.00               0.00   \n",
      "Harlem                       0.00         0.00      0.00               0.00   \n",
      "Civic Center                 0.02         0.02      0.00               0.00   \n",
      "Governors Island             0.00         0.00      0.00               0.00   \n",
      "Lower East Side              0.03         0.06      0.02               0.02   \n",
      "Ellis Island                 0.00         0.00      0.00               0.00   \n",
      "Central Park                 0.00         0.00      0.00               0.00   \n",
      "West Village                 0.04         0.02      0.02               0.08   \n",
      "Marble Hill                  0.00         0.00      0.00               0.00   \n",
      "\n",
      "                     Randall's Island  Harlem  Civic Center  Governors Island  \\\n",
      "Hell's Kitchen                   0.02    0.05          0.02              0.00   \n",
      "Upper East Side                  0.17    0.09          0.03              0.00   \n",
      "SoHo                             0.01    0.01          0.06              0.00   \n",
      "East Harlem                      0.08    0.06          0.00              0.00   \n",
      "Battery Park City                0.00    0.00          0.02              0.00   \n",
      "Chelsea                          0.03    0.04          0.05              0.08   \n",
      "Outside Manhattan                0.22    0.08          0.24              0.17   \n",
      "Roosevelt Island                 0.00    0.00          0.00              0.00   \n",
      "Upper West Side                  0.05    0.15          0.01              0.00   \n",
      "Financial District               0.00    0.00          0.06              0.00   \n",
      "Inwood                           0.00    0.01          0.00              0.00   \n",
      "Liberty Island                   0.00    0.00          0.00              0.00   \n",
      "Stuyvesant Town                  0.00    0.00          0.00              0.00   \n",
      "Flatiron District                0.00    0.01          0.01              0.08   \n",
      "Theater District                 0.01    0.02          0.02              0.00   \n",
      "Morningside Heights              0.01    0.05          0.00              0.00   \n",
      "Midtown                          0.07    0.07          0.07              0.00   \n",
      "Chinatown                        0.00    0.00          0.05              0.17   \n",
      "NoHo                             0.00    0.00          0.01              0.00   \n",
      "Murray Hill                      0.02    0.01          0.02              0.08   \n",
      "Tribeca                          0.00    0.00          0.07              0.08   \n",
      "East Village                     0.02    0.02          0.04              0.08   \n",
      "Gramercy                         0.01    0.01          0.02              0.00   \n",
      "Washington Heights               0.00    0.05          0.00              0.00   \n",
      "Nolita                           0.00    0.00          0.01              0.00   \n",
      "Little Italy                     0.00    0.00          0.00              0.00   \n",
      "Two Bridges                      0.00    0.00          0.00              0.00   \n",
      "Kips Bay                         0.01    0.01          0.01              0.00   \n",
      "Greenwich Village                0.01    0.01          0.03              0.00   \n",
      "Randall's Island                 0.18    0.00          0.00              0.00   \n",
      "Harlem                           0.03    0.21          0.00              0.00   \n",
      "Civic Center                     0.00    0.00          0.09              0.00   \n",
      "Governors Island                 0.00    0.00          0.00              0.17   \n",
      "Lower East Side                  0.01    0.01          0.02              0.00   \n",
      "Ellis Island                     0.00    0.00          0.00              0.00   \n",
      "Central Park                     0.02    0.02          0.00              0.00   \n",
      "West Village                     0.01    0.01          0.03              0.08   \n",
      "Marble Hill                      0.00    0.00          0.00              0.00   \n",
      "\n",
      "                     Lower East Side  Ellis Island  Central Park  \\\n",
      "Hell's Kitchen                  0.02          0.00          0.04   \n",
      "Upper East Side                 0.03          0.00          0.25   \n",
      "SoHo                            0.03          0.00          0.00   \n",
      "East Harlem                     0.00          0.00          0.05   \n",
      "Battery Park City               0.01          0.00          0.00   \n",
      "Chelsea                         0.05          0.00          0.03   \n",
      "Outside Manhattan               0.23          0.33          0.03   \n",
      "Roosevelt Island                0.00          0.00          0.00   \n",
      "Upper West Side                 0.01          0.00          0.16   \n",
      "Financial District              0.03          0.33          0.00   \n",
      "Inwood                          0.00          0.00          0.00   \n",
      "Liberty Island                  0.00          0.00          0.00   \n",
      "Stuyvesant Town                 0.01          0.00          0.00   \n",
      "Flatiron District               0.01          0.00          0.01   \n",
      "Theater District                0.01          0.00          0.04   \n",
      "Morningside Heights             0.00          0.00          0.01   \n",
      "Midtown                         0.06          0.33          0.15   \n",
      "Chinatown                       0.03          0.00          0.00   \n",
      "NoHo                            0.01          0.00          0.00   \n",
      "Murray Hill                     0.02          0.00          0.01   \n",
      "Tribeca                         0.02          0.00          0.00   \n",
      "East Village                    0.08          0.00          0.01   \n",
      "Gramercy                        0.02          0.00          0.01   \n",
      "Washington Heights              0.00          0.00          0.00   \n",
      "Nolita                          0.01          0.00          0.00   \n",
      "Little Italy                    0.00          0.00          0.00   \n",
      "Two Bridges                     0.00          0.00          0.00   \n",
      "Kips Bay                        0.02          0.00          0.01   \n",
      "Greenwich Village               0.02          0.00          0.01   \n",
      "Randall's Island                0.00          0.00          0.00   \n",
      "Harlem                          0.00          0.00          0.03   \n",
      "Civic Center                    0.01          0.00          0.00   \n",
      "Governors Island                0.00          0.00          0.00   \n",
      "Lower East Side                 0.21          0.00          0.00   \n",
      "Ellis Island                    0.00          0.00          0.00   \n",
      "Central Park                    0.00          0.00          0.14   \n",
      "West Village                    0.03          0.00          0.01   \n",
      "Marble Hill                     0.00          0.00          0.00   \n",
      "\n",
      "                     West Village  Marble Hill  \n",
      "Hell's Kitchen               0.04         0.10  \n",
      "Upper East Side              0.03         0.07  \n",
      "SoHo                         0.06         0.01  \n",
      "East Harlem                  0.00         0.03  \n",
      "Battery Park City            0.02         0.01  \n",
      "Chelsea                      0.15         0.05  \n",
      "Outside Manhattan            0.04         0.22  \n",
      "Roosevelt Island             0.00         0.00  \n",
      "Upper West Side              0.02         0.17  \n",
      "Financial District           0.02         0.01  \n",
      "Inwood                       0.00         0.02  \n",
      "Liberty Island               0.00         0.00  \n",
      "Stuyvesant Town              0.00         0.00  \n",
      "Flatiron District            0.02         0.01  \n",
      "Theater District             0.02         0.02  \n",
      "Morningside Heights          0.00         0.02  \n",
      "Midtown                      0.08         0.06  \n",
      "Chinatown                    0.00         0.01  \n",
      "NoHo                         0.01         0.00  \n",
      "Murray Hill                  0.01         0.01  \n",
      "Tribeca                      0.04         0.01  \n",
      "East Village                 0.04         0.01  \n",
      "Gramercy                     0.02         0.01  \n",
      "Washington Heights           0.00         0.06  \n",
      "Nolita                       0.01         0.00  \n",
      "Little Italy                 0.00         0.00  \n",
      "Two Bridges                  0.00         0.00  \n",
      "Kips Bay                     0.01         0.01  \n",
      "Greenwich Village            0.05         0.01  \n",
      "Randall's Island             0.00         0.00  \n",
      "Harlem                       0.00         0.03  \n",
      "Civic Center                 0.00         0.00  \n",
      "Governors Island             0.00         0.00  \n",
      "Lower East Side              0.01         0.00  \n",
      "Ellis Island                 0.00         0.00  \n",
      "Central Park                 0.00         0.01  \n",
      "West Village                 0.29         0.01  \n",
      "Marble Hill                  0.00         0.03  \n"
     ]
    },
    {
     "data": {
      "image/png": "[encoded data removed]",
      "text/plain": [
       "<Figure size 1400x1200 with 2 Axes>"
      ]
     },
     "metadata": {},
     "output_type": "display_data"
    }
   ],
   "source": [
    "pd.set_option(\"display.max_columns\", 38)\n",
    "pd.set_option(\"display.max_rows\", 38)\n",
    "\n",
    "tr_pr = np.divide(tr_counts, sums, out=np.zeros_like(tr_counts), where = sums!=0)\n",
    "print('Transition Proportions: \\n')\n",
    "tr_df = pd.DataFrame(np.round(tr_pr, 2), index = states, columns = states)\n",
    "print(tr_df)\n",
    "\n",
    "plt.figure(figsize=(14, 12))\n",
    "sns.heatmap(tr_pr, xticklabels=states, yticklabels=states, cmap = 'YlOrBr')\n",
    "plt.title('Transition Matrix Heatmap of Taxicab Trajectories')\n",
    "plt.xlabel('Next State')\n",
    "plt.ylabel('Current State')\n",
    "plt.xticks(rotation=90)\n",
    "plt.yticks(rotation=0)\n",
    "plt.tight_layout()\n",
    "plt.show()"
   ]
  },
  {
   "cell_type": "markdown",
   "id": "68ae32b2",
   "metadata": {},
   "source": [
    "From this matrix, it appears that it is very common for taxi rides to start and end in the same neighborhood. For example, the proportion of rides that begin and end Outside Manhattan is 0.51, Upper East Side to Upper East Side is 0.46, and Upper West Side to Upper West Side is 0.42. Some common rides between different neighborhoods include Outside Manhattan to Ellis Island (0.33), Financial District to Ellis Island (0.33), Midtown to Ellis Island (0.33), Upper East Side to East Harlem (0.28), and Outside Manhattan to Little Italy (0.24).\n",
    "However, I noticed that the probability that a taxi in Greenwich Village next goes to Liberty Island is 100%. This seems unlikely, as it would imply that all taxi rides to Liberty Island come from Greenwich Village. It is more probable that this is due to a lack of data like maybe there is only one recorded trip to Liberty Island in the dataset, and that trip happened to start in Greenwich Village."
   ]
  },
  {
   "cell_type": "markdown",
   "id": "8f7b0730",
   "metadata": {},
   "source": [
    "Taxicabs are most likely order one because a cab’s next destination depends almost entirely on its current location, not on the history of where it has been. Once a cab is in a given neighborhood, the next trip is typically determined by a new passenger, whose destination is unrelated to where the cab came from. As a result, the past locations have very little influence on future destinations, making higher-order models unnecessary in most cases."
   ]
  },
  {
   "cell_type": "code",
   "execution_count": 175,
   "id": "3673e13a",
   "metadata": {},
   "outputs": [
    {
     "name": "stdout",
     "output_type": "stream",
     "text": [
      "\n",
      "After 2 trips:\n",
      "  Midtown: 0.1725\n",
      "  Hell's Kitchen: 0.1192\n",
      "  Chelsea: 0.1087\n",
      "  Upper West Side: 0.0989\n",
      "  Upper East Side: 0.0869\n",
      "\n",
      "After 3 trips:\n",
      "  Midtown: 0.1726\n",
      "  Upper East Side: 0.1080\n",
      "  Chelsea: 0.0972\n",
      "  Upper West Side: 0.0916\n",
      "  Outside Manhattan: 0.0900\n",
      "\n",
      "After 5 trips:\n",
      "  Midtown: 0.1693\n",
      "  Upper East Side: 0.1204\n",
      "  Outside Manhattan: 0.0994\n",
      "  Chelsea: 0.0881\n",
      "  Upper West Side: 0.0826\n",
      "\n",
      "After 10 trips:\n",
      "  Midtown: 0.1678\n",
      "  Upper East Side: 0.1220\n",
      "  Outside Manhattan: 0.1028\n",
      "  Chelsea: 0.0861\n",
      "  Upper West Side: 0.0787\n"
     ]
    }
   ],
   "source": [
    "start_state = \"Hell's Kitchen\"\n",
    "start_index = state_to_index[start_state]\n",
    "\n",
    "# Initial distribution: start in Hell's Kitchen\n",
    "p0 = np.zeros(len(states))\n",
    "p0[start_index] = 1\n",
    "\n",
    "# Compute p_n = p0 @ T^n for n = 2, 3, 5, 10\n",
    "for n in [2, 3, 5, 10]:\n",
    "    pn = p0 @ np.linalg.matrix_power(T, n)\n",
    "    top_indices = pn.argsort()[::-1][:5]\n",
    "    print(f\"\\nAfter {n} trips:\")\n",
    "    for i in top_indices:\n",
    "        print(f\"  {index_to_state[i]}: {pn[i]:.4f}\")\n"
   ]
  },
  {
   "cell_type": "markdown",
   "id": "322e75fa",
   "metadata": {},
   "source": [
    "Starting from Hell's Kitchen, after 2 trips, the taxi is most likely to be found in Midtown (about 17%), followed by Hell's Kitchen itself, Chelsea, Upper West Side, and Upper East Side. These results suggest that early on, taxis tend to stay relatively close within central Manhattan neighborhoods. By 3 trips, Midtown is still the top location, but the probabilities start to spread out more, with Outside Manhattan entering the top 5. After 5 trips, the likelihood of being in Midtown is still high but gradually decreases, while the probabilities for Upper East Side and Outside Manhattan increase. By 10 trips, Midtown is still the most probable location but with a slightly lower probability, while the Upper East Side and Outside Manhattan become more prominent, reflecting the tendency of taxis to cover a wide area over multiple trips."
   ]
  },
  {
   "cell_type": "code",
   "execution_count": null,
   "id": "ed1b32ed",
   "metadata": {},
   "outputs": [
    {
     "name": "stdout",
     "output_type": "stream",
     "text": [
      "Converged after 20 iterations.\n",
      "\n",
      "Neighborhoods where cabs spend most of their time in Manhattan:\n",
      "Midtown: 0.1677\n",
      "Upper East Side: 0.1218\n",
      "Outside Manhattan: 0.1030\n",
      "Chelsea: 0.0862\n",
      "Upper West Side: 0.0785\n",
      "Hell's Kitchen: 0.0533\n",
      "East Village: 0.0387\n",
      "Theater District: 0.0381\n",
      "West Village: 0.0366\n",
      "Murray Hill: 0.0285\n"
     ]
    }
   ],
   "source": [
    "import numpy as np\n",
    "\n",
    "start_state = \"Midtown\"\n",
    "start_index = state_to_index[start_state]\n",
    "pi = np.zeros(len(states))\n",
    "pi[start_index] = 1.0\n",
    "\n",
    "for i in range(1000):\n",
    "    new_pi = pi @ T\n",
    "    if np.allclose(new_pi, pi, atol=1e-8):\n",
    "        print(f\"Converged after {i+1} iterations.\")\n",
    "        break\n",
    "    pi = new_pi\n",
    "\n",
    "steady_state = pi / pi.sum()\n",
    "top_n = 10\n",
    "top_indices = np.argsort(steady_state)[::-1][:top_n]\n",
    "\n",
    "print(\"\\nNeighborhoods where cabs spend most of their time in Manhattan:\")\n",
    "for index in top_indices:\n",
    "    print(f\"{index_to_state[index]}: {steady_state[index]:.4f}\")\n"
   ]
  }
 ],
 "metadata": {
  "kernelspec": {
   "display_name": "ds6001",
   "language": "python",
   "name": "python3"
  },
  "language_info": {
   "codemirror_mode": {
    "name": "ipython",
    "version": 3
   },
   "file_extension": ".py",
   "mimetype": "text/x-python",
   "name": "python",
   "nbconvert_exporter": "python",
   "pygments_lexer": "ipython3",
   "version": "3.13.5"
  }
 },
 "nbformat": 4,
 "nbformat_minor": 5
}
